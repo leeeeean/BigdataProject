{
 "cells": [
  {
   "cell_type": "code",
   "execution_count": 29,
   "metadata": {},
   "outputs": [
    {
     "name": "stdout",
     "output_type": "stream",
     "text": [
      "540\n",
      "542\n",
      "544\n",
      "546\n",
      "548\n",
      "550\n",
      "552\n",
      "554\n",
      "556\n",
      "558\n",
      "600\n",
      "602\n",
      "604\n",
      "606\n",
      "608\n",
      "610\n",
      "612\n",
      "614\n",
      "616\n",
      "618\n",
      "620\n",
      "622\n",
      "624\n",
      "626\n",
      "628\n"
     ]
    }
   ],
   "source": [
    "import urllib.request\n",
    "from bs4 import BeautifulSoup\n",
    "from selenium import webdriver\n",
    "from time import sleep\n",
    "\n",
    "\n",
    "# 이미지 저장\n",
    "date = 201912010540\n",
    "# date = 201912010000\n",
    "\n",
    "while (date != 201912010630) :\n",
    "# while (date != 201912021600) :\n",
    "    if str(date)[-2:] == '60':\n",
    "        date += 40\n",
    "        if str(date)[8:-2] == '24':\n",
    "            date += 10000\n",
    "            date -= 2400\n",
    "    # 시간 변동 때문인지 6:00 부터 6:08 까지는 데이터가 없다\n",
    "    if int(str(date)[9:]) >= 600 and int(str(date)[9:]) <= 608:\n",
    "        date += 2\n",
    "        continue\n",
    "    img_url = \"http://www.weather.go.kr/repositary/image/sat/gk2a/KO/gk2a_ami_le1b_ir105_ko020lc_{0}.thn.png\"\n",
    "    img_name = str(date)+\".thn.png\"\n",
    "#     urllib.request.urlretrieve(img_url.format(date), 'BigdataPrac/project/img/' + img_name)\n",
    "    urllib.request.urlretrieve(img_url.format(date), './im2/' + img_name)\n",
    "    date += 2\n",
    "\n"
   ]
  },
  {
   "cell_type": "code",
   "execution_count": null,
   "metadata": {},
   "outputs": [],
   "source": []
  }
 ],
 "metadata": {
  "kernelspec": {
   "display_name": "Python 3",
   "language": "python",
   "name": "python3"
  },
  "language_info": {
   "codemirror_mode": {
    "name": "ipython",
    "version": 3
   },
   "file_extension": ".py",
   "mimetype": "text/x-python",
   "name": "python",
   "nbconvert_exporter": "python",
   "pygments_lexer": "ipython3",
   "version": "3.7.4"
  }
 },
 "nbformat": 4,
 "nbformat_minor": 2
}
