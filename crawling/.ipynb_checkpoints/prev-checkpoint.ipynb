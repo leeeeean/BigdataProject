{
 "cells": [
  {
   "cell_type": "code",
   "execution_count": 26,
   "metadata": {},
   "outputs": [
    {
     "name": "stdout",
     "output_type": "stream",
     "text": [
      "24\n",
      "240\n"
     ]
    }
   ],
   "source": [
    "import urllib.request\n",
    "from bs4 import BeautifulSoup\n",
    "from selenium import webdriver\n",
    "from time import sleep\n",
    "\n",
    "\n",
    "# 이미지 저장\n",
    "date = 201912012340\n",
    "\n",
    "while (date != 201912020030) :\n",
    "    if str(date)[-2:] == '60':\n",
    "        date += 40\n",
    "        if str(date)[8:-2] == '24':\n",
    "            date += 10000\n",
    "            date -= 2400\n",
    "    img_url = \"http://www.weather.go.kr/repositary/image/sat/gk2a/KO/gk2a_ami_le1b_ir105_ko020lc_{0}.thn.png\"\n",
    "    img_name = str(date)+\".thn.png\"\n",
    "#     urllib.request.urlretrieve(img_url.format(date), 'BigdataPrac/project/img/' + img_name)\n",
    "    urllib.request.urlretrieve(img_url.format(date), './im2/' + img_name)\n",
    "    date += 2\n",
    "\n"
   ]
  },
  {
   "cell_type": "code",
   "execution_count": null,
   "metadata": {},
   "outputs": [],
   "source": []
  }
 ],
 "metadata": {
  "kernelspec": {
   "display_name": "Python 3",
   "language": "python",
   "name": "python3"
  },
  "language_info": {
   "codemirror_mode": {
    "name": "ipython",
    "version": 3
   },
   "file_extension": ".py",
   "mimetype": "text/x-python",
   "name": "python",
   "nbconvert_exporter": "python",
   "pygments_lexer": "ipython3",
   "version": "3.7.4"
  }
 },
 "nbformat": 4,
 "nbformat_minor": 2
}
