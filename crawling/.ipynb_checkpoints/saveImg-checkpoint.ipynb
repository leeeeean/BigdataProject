{
 "cells": [
  {
   "cell_type": "code",
   "execution_count": 23,
   "metadata": {
    "scrolled": true
   },
   "outputs": [
    {
     "name": "stdout",
     "output_type": "stream",
     "text": [
      "/repositary/image/sat/gk2a/KO/gk2a_ami_le1b_ir105_ko020lc_201912021338.thn.png\n"
     ]
    },
    {
     "data": {
      "text/plain": [
       "('./img/201912021338', <http.client.HTTPMessage at 0x10e57e450>)"
      ]
     },
     "execution_count": 23,
     "metadata": {},
     "output_type": "execute_result"
    }
   ],
   "source": [
    "import urllib.request\n",
    "from bs4 import BeautifulSoup\n",
    "from selenium import webdriver\n",
    "from time import sleep\n",
    "\n",
    "url =\"http://www.weather.go.kr/weather/main.jsp\"\n",
    "\n",
    "driver = webdriver.Chrome('../../chromedriver')\n",
    "driver.get(url)\n",
    "\n",
    "sleep(2)\n",
    "\n",
    "# 화면 오픈\n",
    "driver.find_element_by_id('top-menu2').click()\n",
    "driver.find_element_by_id(\"menu2-2-1\").click()\n",
    "driver.find_element_by_id(\"data1\").click()\n",
    "\n",
    "# 이미지 가져오기\n",
    "cnt = BeautifulSoup(driver.page_source, 'html.parser')\n",
    "li = cnt.find(\"ul\",{\"class\":\"image-player-slide-images\"})\n",
    "img = li.find(\"img\")\n",
    "src = img.get(\"src\")\n",
    "\n",
    "# 이미지 저장\n",
    "img_url = \"http://www.weather.go.kr\"+src\n",
    "img_name = src[src.find('2019'):-8]\n",
    "urllib.request.urlretrieve(img_url, \"./img/\" + img_name)\n",
    "\n"
   ]
  },
  {
   "cell_type": "code",
   "execution_count": null,
   "metadata": {},
   "outputs": [],
   "source": []
  }
 ],
 "metadata": {
  "kernelspec": {
   "display_name": "Python 3",
   "language": "python",
   "name": "python3"
  },
  "language_info": {
   "codemirror_mode": {
    "name": "ipython",
    "version": 3
   },
   "file_extension": ".py",
   "mimetype": "text/x-python",
   "name": "python",
   "nbconvert_exporter": "python",
   "pygments_lexer": "ipython3",
   "version": "3.7.4"
  }
 },
 "nbformat": 4,
 "nbformat_minor": 2
}
